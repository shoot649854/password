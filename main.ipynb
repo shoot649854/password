{
 "cells": [
  {
   "cell_type": "markdown",
   "metadata": {},
   "source": [
    "### Import "
   ]
  },
  {
   "cell_type": "code",
   "execution_count": 1,
   "metadata": {},
   "outputs": [],
   "source": [
    "import numpy as np \n",
    "import pandas as pd \n",
    "import random\n",
    "import string\n",
    "import time\n"
   ]
  },
  {
   "cell_type": "code",
   "execution_count": 2,
   "metadata": {},
   "outputs": [
    {
     "data": {
      "text/html": [
       "<div>\n",
       "<style scoped>\n",
       "    .dataframe tbody tr th:only-of-type {\n",
       "        vertical-align: middle;\n",
       "    }\n",
       "\n",
       "    .dataframe tbody tr th {\n",
       "        vertical-align: top;\n",
       "    }\n",
       "\n",
       "    .dataframe thead th {\n",
       "        text-align: right;\n",
       "    }\n",
       "</style>\n",
       "<table border=\"1\" class=\"dataframe\">\n",
       "  <thead>\n",
       "    <tr style=\"text-align: right;\">\n",
       "      <th></th>\n",
       "      <th>password</th>\n",
       "    </tr>\n",
       "  </thead>\n",
       "  <tbody>\n",
       "    <tr>\n",
       "      <th>0</th>\n",
       "      <td>password</td>\n",
       "    </tr>\n",
       "    <tr>\n",
       "      <th>1</th>\n",
       "      <td>123456789</td>\n",
       "    </tr>\n",
       "    <tr>\n",
       "      <th>2</th>\n",
       "      <td>12345678</td>\n",
       "    </tr>\n",
       "    <tr>\n",
       "      <th>3</th>\n",
       "      <td>12345</td>\n",
       "    </tr>\n",
       "    <tr>\n",
       "      <th>4</th>\n",
       "      <td>qwerty</td>\n",
       "    </tr>\n",
       "  </tbody>\n",
       "</table>\n",
       "</div>"
      ],
      "text/plain": [
       "    password\n",
       "0   password\n",
       "1  123456789\n",
       "2   12345678\n",
       "3      12345\n",
       "4     qwerty"
      ]
     },
     "execution_count": 2,
     "metadata": {},
     "output_type": "execute_result"
    }
   ],
   "source": [
    "df = pd.read_csv('./password.csv')\n",
    "df.head()"
   ]
  },
  {
   "cell_type": "code",
   "execution_count": 3,
   "metadata": {},
   "outputs": [],
   "source": [
    "def randome_phone_number():\n",
    "    extension = [209, 213, 310, 323, 408, 415, 424, 442, 510, 530, 559, 562, 619, 626, 650, 657, 661, 669, 707, 714, 747, 760, 805, 818, 831, 858, 909, 916, 925, 949, 951]\n",
    "    return str(extension[random.randint(0, 29)]) + \"-\" + str(random.randint(111, 999)) + \"-\" + str(random.randint(1111, 9999))"
   ]
  },
  {
   "cell_type": "code",
   "execution_count": 4,
   "metadata": {},
   "outputs": [],
   "source": [
    "def str_time_prop(start, end, time_format, prop):\n",
    "    \"\"\"Get a time at a proportion of a range of two formatted times.\n",
    "\n",
    "    start and end should be strings specifying times formatted in the\n",
    "    given format (strftime-style), giving an interval [start, end].\n",
    "    prop specifies how a proportion of the interval to be taken after\n",
    "    start.  The returned time will be in the specified format.\n",
    "    \"\"\"\n",
    "\n",
    "    stime = time.mktime(time.strptime(start, time_format))\n",
    "    etime = time.mktime(time.strptime(end, time_format))\n",
    "\n",
    "    ptime = stime + prop * (etime - stime)\n",
    "\n",
    "    return time.strftime(time_format, time.localtime(ptime))\n",
    "\n",
    "\n",
    "def random_date(start, end, prop):\n",
    "    return str_time_prop(start, end, '%m/%d/%Y %I:%M %p', prop)"
   ]
  },
  {
   "cell_type": "code",
   "execution_count": 5,
   "metadata": {},
   "outputs": [],
   "source": [
    "def random_char(y):\n",
    "       return ''.join(random.choice(string.ascii_letters) for x in range(y))\n",
    "\n",
    "def status_char(y):\n",
    "       return ''.join(random.choice('y' or 'n') for x in range(y))"
   ]
  },
  {
   "cell_type": "code",
   "execution_count": 6,
   "metadata": {},
   "outputs": [],
   "source": [
    "data_user = []\n",
    "for i in range(0, 300):\n",
    "    data_user.append(df['password'].iloc[random.randint(0, 900)])\n",
    "\n",
    "\n",
    "data_pass = []\n",
    "for i in range(0, 300):\n",
    "    data_pass.append(df['password'].iloc[random.randint(0, 900)])"
   ]
  },
  {
   "cell_type": "code",
   "execution_count": 7,
   "metadata": {},
   "outputs": [],
   "source": [
    "data_mail = []\n",
    "for i in range(0, 300):\n",
    "    data_mail.append(random_char(7) + \"@gmail.com\")"
   ]
  },
  {
   "cell_type": "code",
   "execution_count": 8,
   "metadata": {},
   "outputs": [],
   "source": [
    "data_login_date = []\n",
    "for i in range(0, 300):\n",
    "    data_login_date.append(random_date(\"11/1/2022 1:30 PM\", \"8/1/2022 4:50 AM\", random.random()))\n",
    "\n",
    "data_started_date = []\n",
    "for i in range(0, 300):\n",
    "    data_started_date.append(random_date(\"7/1/2022 1:30 PM\", \"3/1/2022 4:50 AM\", random.random()))"
   ]
  },
  {
   "cell_type": "code",
   "execution_count": 9,
   "metadata": {},
   "outputs": [],
   "source": [
    "data_phone_number = []\n",
    "for i in range(0, 300):\n",
    "    data_phone_number.append(randome_phone_number())"
   ]
  },
  {
   "cell_type": "code",
   "execution_count": 10,
   "metadata": {},
   "outputs": [],
   "source": [
    "# Create the pandas DataFrame\n",
    "data = {\n",
    "    'username': data_user,\n",
    "    \"password\": data_pass,\n",
    "    \"mail_address\": data_mail,\n",
    "    \"phone_number\": data_phone_number,\n",
    "    \"status\": ['']*300,\n",
    "    \"last_login\": data_login_date,\n",
    "    \"date_started\": data_started_date,\n",
    "    \"num_of_lights\": random.randint(0, 10)*300\n",
    "}\n",
    "\n",
    "data_dictionary = pd.DataFrame(data)"
   ]
  },
  {
   "cell_type": "code",
   "execution_count": 11,
   "metadata": {},
   "outputs": [
    {
     "data": {
      "text/html": [
       "<div>\n",
       "<style scoped>\n",
       "    .dataframe tbody tr th:only-of-type {\n",
       "        vertical-align: middle;\n",
       "    }\n",
       "\n",
       "    .dataframe tbody tr th {\n",
       "        vertical-align: top;\n",
       "    }\n",
       "\n",
       "    .dataframe thead th {\n",
       "        text-align: right;\n",
       "    }\n",
       "</style>\n",
       "<table border=\"1\" class=\"dataframe\">\n",
       "  <thead>\n",
       "    <tr style=\"text-align: right;\">\n",
       "      <th></th>\n",
       "      <th>username</th>\n",
       "      <th>password</th>\n",
       "      <th>mail_address</th>\n",
       "      <th>phone_number</th>\n",
       "      <th>status</th>\n",
       "      <th>last_login</th>\n",
       "      <th>date_started</th>\n",
       "      <th>num_of_lights</th>\n",
       "    </tr>\n",
       "  </thead>\n",
       "  <tbody>\n",
       "    <tr>\n",
       "      <th>0</th>\n",
       "      <td>joshua</td>\n",
       "      <td>chandler</td>\n",
       "      <td>aTZlznr@gmail.com</td>\n",
       "      <td>949-337-7288</td>\n",
       "      <td></td>\n",
       "      <td>08/03/2022 10:06 AM</td>\n",
       "      <td>05/20/2022 09:06 AM</td>\n",
       "      <td>900</td>\n",
       "    </tr>\n",
       "    <tr>\n",
       "      <th>1</th>\n",
       "      <td>panthers</td>\n",
       "      <td>junior</td>\n",
       "      <td>tzkTeMy@gmail.com</td>\n",
       "      <td>858-184-8092</td>\n",
       "      <td></td>\n",
       "      <td>09/26/2022 10:00 PM</td>\n",
       "      <td>05/27/2022 09:56 PM</td>\n",
       "      <td>900</td>\n",
       "    </tr>\n",
       "    <tr>\n",
       "      <th>2</th>\n",
       "      <td>swordfish</td>\n",
       "      <td>christopher</td>\n",
       "      <td>tYJlmfB@gmail.com</td>\n",
       "      <td>559-725-6288</td>\n",
       "      <td></td>\n",
       "      <td>10/22/2022 05:04 AM</td>\n",
       "      <td>06/17/2022 03:48 AM</td>\n",
       "      <td>900</td>\n",
       "    </tr>\n",
       "    <tr>\n",
       "      <th>3</th>\n",
       "      <td>gregory</td>\n",
       "      <td>888888</td>\n",
       "      <td>BWxyaAd@gmail.com</td>\n",
       "      <td>626-238-8942</td>\n",
       "      <td></td>\n",
       "      <td>10/21/2022 04:13 PM</td>\n",
       "      <td>03/08/2022 01:37 PM</td>\n",
       "      <td>900</td>\n",
       "    </tr>\n",
       "    <tr>\n",
       "      <th>4</th>\n",
       "      <td>general</td>\n",
       "      <td>jackson</td>\n",
       "      <td>ogazwCT@gmail.com</td>\n",
       "      <td>415-396-7415</td>\n",
       "      <td></td>\n",
       "      <td>10/06/2022 12:56 PM</td>\n",
       "      <td>05/29/2022 05:33 AM</td>\n",
       "      <td>900</td>\n",
       "    </tr>\n",
       "  </tbody>\n",
       "</table>\n",
       "</div>"
      ],
      "text/plain": [
       "    username     password       mail_address  phone_number status  \\\n",
       "0     joshua     chandler  aTZlznr@gmail.com  949-337-7288          \n",
       "1   panthers       junior  tzkTeMy@gmail.com  858-184-8092          \n",
       "2  swordfish  christopher  tYJlmfB@gmail.com  559-725-6288          \n",
       "3    gregory       888888  BWxyaAd@gmail.com  626-238-8942          \n",
       "4    general      jackson  ogazwCT@gmail.com  415-396-7415          \n",
       "\n",
       "            last_login         date_started  num_of_lights  \n",
       "0  08/03/2022 10:06 AM  05/20/2022 09:06 AM            900  \n",
       "1  09/26/2022 10:00 PM  05/27/2022 09:56 PM            900  \n",
       "2  10/22/2022 05:04 AM  06/17/2022 03:48 AM            900  \n",
       "3  10/21/2022 04:13 PM  03/08/2022 01:37 PM            900  \n",
       "4  10/06/2022 12:56 PM  05/29/2022 05:33 AM            900  "
      ]
     },
     "execution_count": 11,
     "metadata": {},
     "output_type": "execute_result"
    }
   ],
   "source": [
    "data_dictionary.head()"
   ]
  },
  {
   "cell_type": "code",
   "execution_count": 12,
   "metadata": {},
   "outputs": [],
   "source": [
    "data_dictionary.to_csv('./data_dictionary.csv', index=False)"
   ]
  },
  {
   "cell_type": "code",
   "execution_count": 13,
   "metadata": {},
   "outputs": [
    {
     "data": {
      "text/html": [
       "<div>\n",
       "<style scoped>\n",
       "    .dataframe tbody tr th:only-of-type {\n",
       "        vertical-align: middle;\n",
       "    }\n",
       "\n",
       "    .dataframe tbody tr th {\n",
       "        vertical-align: top;\n",
       "    }\n",
       "\n",
       "    .dataframe thead th {\n",
       "        text-align: right;\n",
       "    }\n",
       "</style>\n",
       "<table border=\"1\" class=\"dataframe\">\n",
       "  <thead>\n",
       "    <tr style=\"text-align: right;\">\n",
       "      <th></th>\n",
       "      <th>username</th>\n",
       "      <th>password</th>\n",
       "      <th>mail_address</th>\n",
       "      <th>phone_number</th>\n",
       "      <th>status</th>\n",
       "      <th>last_login</th>\n",
       "      <th>date_started</th>\n",
       "      <th>num_of_lights</th>\n",
       "    </tr>\n",
       "  </thead>\n",
       "  <tbody>\n",
       "    <tr>\n",
       "      <th>0</th>\n",
       "      <td>joshua</td>\n",
       "      <td>chandler</td>\n",
       "      <td>aTZlznr@gmail.com</td>\n",
       "      <td>949-337-7288</td>\n",
       "      <td></td>\n",
       "      <td>08/03/2022 10:06 AM</td>\n",
       "      <td>05/20/2022 09:06 AM</td>\n",
       "      <td>900</td>\n",
       "    </tr>\n",
       "    <tr>\n",
       "      <th>1</th>\n",
       "      <td>panthers</td>\n",
       "      <td>junior</td>\n",
       "      <td>tzkTeMy@gmail.com</td>\n",
       "      <td>858-184-8092</td>\n",
       "      <td></td>\n",
       "      <td>09/26/2022 10:00 PM</td>\n",
       "      <td>05/27/2022 09:56 PM</td>\n",
       "      <td>900</td>\n",
       "    </tr>\n",
       "    <tr>\n",
       "      <th>2</th>\n",
       "      <td>swordfish</td>\n",
       "      <td>christopher</td>\n",
       "      <td>tYJlmfB@gmail.com</td>\n",
       "      <td>559-725-6288</td>\n",
       "      <td></td>\n",
       "      <td>10/22/2022 05:04 AM</td>\n",
       "      <td>06/17/2022 03:48 AM</td>\n",
       "      <td>900</td>\n",
       "    </tr>\n",
       "    <tr>\n",
       "      <th>3</th>\n",
       "      <td>gregory</td>\n",
       "      <td>888888</td>\n",
       "      <td>BWxyaAd@gmail.com</td>\n",
       "      <td>626-238-8942</td>\n",
       "      <td></td>\n",
       "      <td>10/21/2022 04:13 PM</td>\n",
       "      <td>03/08/2022 01:37 PM</td>\n",
       "      <td>900</td>\n",
       "    </tr>\n",
       "    <tr>\n",
       "      <th>4</th>\n",
       "      <td>general</td>\n",
       "      <td>jackson</td>\n",
       "      <td>ogazwCT@gmail.com</td>\n",
       "      <td>415-396-7415</td>\n",
       "      <td></td>\n",
       "      <td>10/06/2022 12:56 PM</td>\n",
       "      <td>05/29/2022 05:33 AM</td>\n",
       "      <td>900</td>\n",
       "    </tr>\n",
       "  </tbody>\n",
       "</table>\n",
       "</div>"
      ],
      "text/plain": [
       "    username     password       mail_address  phone_number status  \\\n",
       "0     joshua     chandler  aTZlznr@gmail.com  949-337-7288          \n",
       "1   panthers       junior  tzkTeMy@gmail.com  858-184-8092          \n",
       "2  swordfish  christopher  tYJlmfB@gmail.com  559-725-6288          \n",
       "3    gregory       888888  BWxyaAd@gmail.com  626-238-8942          \n",
       "4    general      jackson  ogazwCT@gmail.com  415-396-7415          \n",
       "\n",
       "            last_login         date_started  num_of_lights  \n",
       "0  08/03/2022 10:06 AM  05/20/2022 09:06 AM            900  \n",
       "1  09/26/2022 10:00 PM  05/27/2022 09:56 PM            900  \n",
       "2  10/22/2022 05:04 AM  06/17/2022 03:48 AM            900  \n",
       "3  10/21/2022 04:13 PM  03/08/2022 01:37 PM            900  \n",
       "4  10/06/2022 12:56 PM  05/29/2022 05:33 AM            900  "
      ]
     },
     "execution_count": 13,
     "metadata": {},
     "output_type": "execute_result"
    }
   ],
   "source": [
    "data_dictionary.head()"
   ]
  },
  {
   "cell_type": "code",
   "execution_count": null,
   "metadata": {},
   "outputs": [],
   "source": []
  }
 ],
 "metadata": {
  "kernelspec": {
   "display_name": "Python 3.10.6 64-bit",
   "language": "python",
   "name": "python3"
  },
  "language_info": {
   "codemirror_mode": {
    "name": "ipython",
    "version": 3
   },
   "file_extension": ".py",
   "mimetype": "text/x-python",
   "name": "python",
   "nbconvert_exporter": "python",
   "pygments_lexer": "ipython3",
   "version": "3.10.6"
  },
  "orig_nbformat": 4,
  "vscode": {
   "interpreter": {
    "hash": "aee8b7b246df8f9039afb4144a1f6fd8d2ca17a180786b69acc140d282b71a49"
   }
  }
 },
 "nbformat": 4,
 "nbformat_minor": 2
}
